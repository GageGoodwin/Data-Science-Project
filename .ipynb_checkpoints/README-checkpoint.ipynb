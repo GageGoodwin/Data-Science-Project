{
 "cells": [
  {
   "cell_type": "markdown",
   "id": "ac1b5ff0",
   "metadata": {},
   "source": [
    "# coinApi Folder\n",
    "\n",
    "\n",
    "\n",
    "\n",
    "\n",
    "\n",
    "\n",
    "\n",
    "\n",
    "\n",
    "\n",
    "\n",
    "\n",
    "\n",
    "\n",
    "\n",
    "\n",
    "\n",
    "\n",
    "\n",
    "\n",
    "\n",
    "\n",
    "\n",
    "\n",
    "\n",
    "\n",
    "\n",
    "\n"
   ]
  },
  {
   "cell_type": "markdown",
   "id": "9889f9c4",
   "metadata": {},
   "source": [
    "* cryptoData.ipynb\n",
    "    - code that use the coinApi to pull time series currency data\n",
    "      for Bitcoin and Dogecoin from 2016 - 2021\n",
    "* EDA.ipynb\n",
    "    - EDA generates graphs to visualize crypto currency on important dates\n",
    "      this was a preliminary EDA  \n",
    "      \n",
    "      \n",
    "      \n",
    "      \n",
    "    - Python Files below are same as notebooks above\n",
    "* cryptoData.py\n",
    "* EDA.py\n",
    "* validation.py - this is for storage and access of API keys for coinApi"
   ]
  },
  {
   "cell_type": "markdown",
   "id": "869d0f15",
   "metadata": {},
   "source": [
    "# Data Folder"
   ]
  },
  {
   "cell_type": "markdown",
   "id": "1ad4fa94",
   "metadata": {},
   "source": [
    "* crypto\n",
    "    - contains all of the crypto currency data in the format .csv in cleaned         and uncleaned format. We used the 1HR cleaned files for most of our             analysis\n",
    "* priceChangeData\n",
    "    - tweets_and_crypto_price_changes.csv contains the combined data and calcualtion of prices, price difference, and percentage change on days that elon musk tweets. The prices include both bitcoin and dogecoin.\n",
    "* tweets\n",
    "    - contains the elon musk tweet archive both cleaned and uncleaned"
   ]
  },
  {
   "cell_type": "markdown",
   "id": "83821566",
   "metadata": {},
   "source": [
    "# data_cleaning Folder"
   ]
  },
  {
   "cell_type": "markdown",
   "id": "eb996213",
   "metadata": {},
   "source": [
    "* crpyto_cleaning.ipynb - code that cleans the crypto currency data\n",
    "* elon_tweet_cleaning.ipynb - code that cleans the tweet archive"
   ]
  },
  {
   "cell_type": "markdown",
   "id": "51e316ca",
   "metadata": {},
   "source": [
    "# eda_visualizations Folder"
   ]
  },
  {
   "cell_type": "markdown",
   "id": "76841b02",
   "metadata": {},
   "source": [
    "* ipynb files\n",
    "    - Crpyto_and_Tweet_EDA - eda of tweets mapped onto price data over time this allows us to see histotical trends and view price reactions to elons tweets at different times\n",
    "    \n",
    "* .png\n",
    "    - some of the EDAs in output format that we created. Did not include all of the EDAs due to high amount that we generated. Those EDA's can be viewed in the EDA code accordingly"
   ]
  },
  {
   "cell_type": "markdown",
   "id": "a114b2d2",
   "metadata": {},
   "source": [
    "# models Folder"
   ]
  },
  {
   "cell_type": "markdown",
   "id": "005b672c",
   "metadata": {},
   "source": [
    "* Model_1.ipynb\n",
    "    - Bitcoin price linear and exponential regression with predictions\n",
    "* Model_2.ipynb\n",
    "    - Dogecoin price linear and exponential regression with predictions\n",
    "* Model_3.ipynb\n",
    "    - Linear regression Model creation using classifiers (crypto / not crypto)\n",
    "* tweets_and_crypto_data_creation_and_prophet_models.ipynb\n",
    "    - Code that combines the tweet and crypto currency price data, for each day that elon musk tweeted, we calculated the price difference of the previous day close to the current day close and the % change for each bitcoin and dogecoin repectively and added it to the data set based on the date\n",
    "    - Calculated the average percentage change for bitcoin and doge coin on days that elon tweeted about crypto currency versus days that he did not tweet about crypto currency\n",
    "    - created forecating time series models using Prophet library. Enabled us to predict prices for bitcoin, dogecoin and price fluctuation of percentage change for bitcoin and dogecoin on average. This enabled us to view the predicted prices and make informed buying predictions on crypto currency which reinforced our findings / problem statement"
   ]
  },
  {
   "cell_type": "markdown",
   "id": "5f12bb12",
   "metadata": {},
   "source": [
    "# Twitter Folder"
   ]
  },
  {
   "cell_type": "markdown",
   "id": "88bc288c",
   "metadata": {},
   "source": [
    "* Tweet_Scrape.ipynb\n",
    "    - notebook of python code taht uses the open source twint library \n",
    "    \n",
    "* Tweet_Scrape.py\n",
    "    - python code that is the exact same as the notebook above"
   ]
  }
 ],
 "metadata": {
  "kernelspec": {
   "display_name": "Python 3 (ipykernel)",
   "language": "python",
   "name": "python3"
  },
  "language_info": {
   "codemirror_mode": {
    "name": "ipython",
    "version": 3
   },
   "file_extension": ".py",
   "mimetype": "text/x-python",
   "name": "python",
   "nbconvert_exporter": "python",
   "pygments_lexer": "ipython3",
   "version": "3.8.5"
  }
 },
 "nbformat": 4,
 "nbformat_minor": 5
}
